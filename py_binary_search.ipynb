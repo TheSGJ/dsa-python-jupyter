{
  "cells": [
    {
      "cell_type": "code",
      "execution_count": null,
      "metadata": {
        "id": "2YE_5scFue9h"
      },
      "outputs": [],
      "source": [
        "# Binary Search"
      ]
    },
    {
      "cell_type": "code",
      "execution_count": null,
      "metadata": {
        "id": "OdiJfOtAYD4E"
      },
      "outputs": [],
      "source": [
        "pos = -1"
      ]
    },
    {
      "cell_type": "code",
      "execution_count": null,
      "metadata": {
        "id": "6JNBpJ1_u1be"
      },
      "outputs": [],
      "source": [
        "list = [4,7,9,11,13,15]"
      ]
    },
    {
      "cell_type": "code",
      "execution_count": null,
      "metadata": {
        "id": "Pa3STmds5XgD"
      },
      "outputs": [],
      "source": [
        "n = 13"
      ]
    },
    {
      "cell_type": "markdown",
      "metadata": {},
      "source": [
        "<h5> Search for mid value: </h5>"
      ]
    },
    {
      "cell_type": "code",
      "execution_count": null,
      "metadata": {
        "id": "McJrd18r4tCu"
      },
      "outputs": [],
      "source": [
        "def search(list,n):\n",
        "    l = 0\n",
        "    u = len(list) - 1\n",
        "    while l <= u:\n",
        "        mid = (l+u)//2\n",
        "        if list[mid]==n:\n",
        "            globals()['pos'] = mid\n",
        "            return True\n",
        "        else:\n",
        "            if list[mid]<n:\n",
        "                l=mid\n",
        "            else:\n",
        "                u = mid"
      ]
    },
    {
      "cell_type": "code",
      "execution_count": null,
      "metadata": {
        "colab": {
          "base_uri": "https://localhost:8080/"
        },
        "id": "nj8Q5kqpYVo_",
        "outputId": "2ba0b93b-dc2c-4f17-b664-7ff526dd59bd"
      },
      "outputs": [
        {
          "name": "stdout",
          "output_type": "stream",
          "text": [
            "Found at  5\n"
          ]
        }
      ],
      "source": [
        "if search(list, n):\n",
        "    print(\"Found at \",pos+1)\n",
        "else:\n",
        "    print(\"Not found\")"
      ]
    }
  ],
  "metadata": {
    "colab": {
      "authorship_tag": "ABX9TyN5X7pQUgi5u8ASK0RCncg7",
      "collapsed_sections": [],
      "provenance": []
    },
    "kernelspec": {
      "display_name": "Python 3.10.6 64-bit",
      "language": "python",
      "name": "python3"
    },
    "language_info": {
      "name": "python",
      "version": "3.10.6"
    },
    "vscode": {
      "interpreter": {
        "hash": "369f2c481f4da34e4445cda3fffd2e751bd1c4d706f27375911949ba6bb62e1c"
      }
    }
  },
  "nbformat": 4,
  "nbformat_minor": 0
}
